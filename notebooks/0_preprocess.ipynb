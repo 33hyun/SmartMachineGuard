{
 "cells": [
  {
   "cell_type": "code",
   "execution_count": 1,
   "id": "ab83df97",
   "metadata": {},
   "outputs": [],
   "source": [
    "import pandas as pd\n",
    "from sklearn.model_selection import train_test_split\n",
    "from sklearn.preprocessing import StandardScaler, OneHotEncoder"
   ]
  },
  {
   "cell_type": "code",
   "execution_count": 2,
   "id": "6c01fd59",
   "metadata": {},
   "outputs": [],
   "source": [
    "data = pd.read_csv(\"../data/raw/ai4i2020.csv\")"
   ]
  },
  {
   "cell_type": "code",
   "execution_count": 3,
   "id": "0d12961b",
   "metadata": {},
   "outputs": [
    {
     "name": "stdout",
     "output_type": "stream",
     "text": [
      "결측치 확인:\n",
      " UDI                        0\n",
      "Product ID                 0\n",
      "Type                       0\n",
      "Air temperature [K]        0\n",
      "Process temperature [K]    0\n",
      "Rotational speed [rpm]     0\n",
      "Torque [Nm]                0\n",
      "Tool wear [min]            0\n",
      "Machine failure            0\n",
      "TWF                        0\n",
      "HDF                        0\n",
      "PWF                        0\n",
      "OSF                        0\n",
      "RNF                        0\n",
      "dtype: int64\n"
     ]
    }
   ],
   "source": [
    "# 1. 결측치 확인\n",
    "print(\"결측치 확인:\\n\", data.isnull().sum())"
   ]
  },
  {
   "cell_type": "code",
   "execution_count": 4,
   "id": "a8acd2d2",
   "metadata": {},
   "outputs": [],
   "source": [
    "# 3. 이상치 처리 (간단히 z-score 기반 예시)\n",
    "from scipy.stats import zscore\n",
    "numeric_cols = [\"Air temperature [K]\", \"Process temperature [K]\", \"Rotational speed [rpm]\", \n",
    "                \"Torque [Nm]\", \"Tool wear [min]\"]\n",
    "\n",
    "data[numeric_cols] = data[numeric_cols].apply(lambda x: x[(zscore(x).abs() < 3)])"
   ]
  },
  {
   "cell_type": "code",
   "execution_count": 5,
   "id": "22ede762",
   "metadata": {},
   "outputs": [],
   "source": [
    "# 4. 범주형 변수 원-핫 인코딩\n",
    "categorical_cols = [\"Type\"]\n",
    "data = pd.get_dummies(data, columns=categorical_cols, drop_first=True)"
   ]
  },
  {
   "cell_type": "code",
   "execution_count": 6,
   "id": "ebd9f12d",
   "metadata": {},
   "outputs": [],
   "source": [
    "# 5. Feature / Target 분리\n",
    "X = data.drop(columns=[\"UDI\", \"Product ID\", \"Machine failure\", \"TWF\",\"HDF\",\"PWF\",\"OSF\",\"RNF\"])\n",
    "y = data[\"Machine failure\"]"
   ]
  },
  {
   "cell_type": "code",
   "execution_count": 7,
   "id": "aec2ccc4",
   "metadata": {},
   "outputs": [],
   "source": [
    "# 6. 학습/검증/테스트 분리\n",
    "X_train, X_temp, y_train, y_temp = train_test_split(X, y, test_size=0.3, random_state=42, stratify=y)\n",
    "X_val, X_test, y_val, y_test = train_test_split(X_temp, y_temp, test_size=0.5, random_state=42, stratify=y_temp)"
   ]
  },
  {
   "cell_type": "code",
   "execution_count": 8,
   "id": "835938a7",
   "metadata": {},
   "outputs": [],
   "source": [
    "# 7. 정규화 (StandardScaler)\n",
    "scaler = StandardScaler()\n",
    "X_train[numeric_cols] = scaler.fit_transform(X_train[numeric_cols])\n",
    "X_val[numeric_cols] = scaler.transform(X_val[numeric_cols])\n",
    "X_test[numeric_cols] = scaler.transform(X_test[numeric_cols])"
   ]
  },
  {
   "cell_type": "code",
   "execution_count": 9,
   "id": "5f66a944",
   "metadata": {},
   "outputs": [
    {
     "name": "stdout",
     "output_type": "stream",
     "text": [
      "학습용 데이터 shape: (7000, 7)\n",
      "검증용 데이터 shape: (1500, 7)\n",
      "테스트용 데이터 shape: (1500, 7)\n"
     ]
    }
   ],
   "source": [
    "# 8. 데이터 확인\n",
    "print(\"학습용 데이터 shape:\", X_train.shape)\n",
    "print(\"검증용 데이터 shape:\", X_val.shape)\n",
    "print(\"테스트용 데이터 shape:\", X_test.shape)"
   ]
  },
  {
   "cell_type": "code",
   "execution_count": 11,
   "id": "ff412060",
   "metadata": {},
   "outputs": [],
   "source": [
    "# 9. 필요 시 CSV 저장\n",
    "X_train.to_csv(\"../data/X_train.csv\", index=False)\n",
    "X_val.to_csv(\"../data/X_val.csv\", index=False)\n",
    "X_test.to_csv(\"../data/X_test.csv\", index=False)\n",
    "y_train.to_csv(\"../data/y_train.csv\", index=False)\n",
    "y_val.to_csv(\"../data/y_val.csv\", index=False)\n",
    "y_test.to_csv(\"../data/y_test.csv\", index=False)"
   ]
  },
  {
   "cell_type": "code",
   "execution_count": null,
   "id": "dea87cf1",
   "metadata": {},
   "outputs": [],
   "source": []
  }
 ],
 "metadata": {
  "kernelspec": {
   "display_name": "smg",
   "language": "python",
   "name": "python3"
  },
  "language_info": {
   "codemirror_mode": {
    "name": "ipython",
    "version": 3
   },
   "file_extension": ".py",
   "mimetype": "text/x-python",
   "name": "python",
   "nbconvert_exporter": "python",
   "pygments_lexer": "ipython3",
   "version": "3.9.23"
  }
 },
 "nbformat": 4,
 "nbformat_minor": 5
}
